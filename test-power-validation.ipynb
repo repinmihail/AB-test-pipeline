{
 "cells": [
  {
   "cell_type": "code",
   "execution_count": 21,
   "metadata": {},
   "outputs": [
    {
     "name": "stdout",
     "output_type": "stream",
     "text": [
      "оценка необходимого размера групп = 1500\n"
     ]
    }
   ],
   "source": [
    "import numpy as np\n",
    "from scipy import stats\n",
    "\n",
    "alpha = 0.1                     # допустимая вероятность ошибки I рода\n",
    "beta = 0.2                      # допустимая вероятность ошибки II рода\n",
    "mu_control = 2500               # средняя выручка с пользователя в контрольной группе\n",
    "effect = 150                   # ожидаемый размер эффекта\n",
    "mu_pilot = mu_control + effect  # средняя выручка с пользователя в экспериментальной группе\n",
    "std = 800                       # стандартное отклонение\n",
    "\n",
    "# исторические данные выручки для 10000 клиентов\n",
    "values = np.random.normal(mu_control, std, 10000)\n",
    "\n",
    "def estimate_sample_size(effect, std, alpha, beta):\n",
    "    \"\"\"Оценка необходимого размер групп.\"\"\"\n",
    "    t_alpha = stats.norm.ppf(1 - alpha / 2, loc=0, scale=1)\n",
    "    t_beta = stats.norm.ppf(1 - beta, loc=0, scale=1)\n",
    "    var = 2 * std ** 2\n",
    "    sample_size = int((t_alpha + t_beta) ** 2 * var / (effect ** 2))\n",
    "    return sample_size\n",
    "\n",
    "estimated_std = np.std(values)\n",
    "sample_size = 1500#estimate_sample_size(effect, estimated_std, alpha, beta)\n",
    "print(f'оценка необходимого размера групп = {sample_size}')"
   ]
  },
  {
   "cell_type": "code",
   "execution_count": 22,
   "metadata": {},
   "outputs": [
    {
     "name": "stdout",
     "output_type": "stream",
     "text": [
      "оценка вероятности ошибки I рода = 0.1018\n",
      "  доверительный интервал = [0.0959, 0.1077]\n",
      "оценка вероятности ошибки II рода = 0.0002\n",
      "  доверительный интервал = [-0.0001, 0.0005]\n"
     ]
    }
   ],
   "source": [
    "def run_synthetic_experiments(values, sample_size, effect=0, n_iter=10000):\n",
    "    \"\"\"Проводим синтетические эксперименты, возвращаем список p-value.\"\"\"\n",
    "    pvalues = []\n",
    "    for _ in range(n_iter):\n",
    "        a, b = np.random.choice(values, size=(2, sample_size,), replace=False)\n",
    "        b += effect\n",
    "        pvalue = stats.ttest_ind(a, b).pvalue\n",
    "        pvalues.append(pvalue)\n",
    "    return np.array(pvalues)\n",
    "\n",
    "def print_estimated_errors(pvalues_aa, pvalues_ab, alpha):\n",
    "    \"\"\"Оценивает вероятности ошибок.\"\"\"\n",
    "    estimated_first_type_error = np.mean(pvalues_aa < alpha)\n",
    "    estimated_second_type_error = np.mean(pvalues_ab >= alpha)\n",
    "    ci_first = estimate_ci_bernoulli(estimated_first_type_error, len(pvalues_aa))\n",
    "    ci_second = estimate_ci_bernoulli(estimated_second_type_error, len(pvalues_ab))\n",
    "    print(f'оценка вероятности ошибки I рода = {estimated_first_type_error:0.4f}')\n",
    "    print(f'  доверительный интервал = [{ci_first[0]:0.4f}, {ci_first[1]:0.4f}]')\n",
    "    print(f'оценка вероятности ошибки II рода = {estimated_second_type_error:0.4f}')\n",
    "    print(f'  доверительный интервал = [{ci_second[0]:0.4f}, {ci_second[1]:0.4f}]')\n",
    "\n",
    "def estimate_ci_bernoulli(p, n, alpha=0.05):\n",
    "    \"\"\"Доверительный интервал для Бернуллиевской случайной величины.\"\"\"\n",
    "    t = stats.norm.ppf(1 - alpha / 2, loc=0, scale=1)\n",
    "    std_n = np.sqrt(p * (1 - p) / n)\n",
    "    return p - t * std_n, p + t * std_n\n",
    "\n",
    "pvalues_aa = run_synthetic_experiments(values, sample_size, effect=0)\n",
    "pvalues_ab = run_synthetic_experiments(values, sample_size, effect=effect)\n",
    "print_estimated_errors(pvalues_aa, pvalues_ab, alpha)"
   ]
  },
  {
   "cell_type": "code",
   "execution_count": 23,
   "metadata": {},
   "outputs": [
    {
     "data": {
      "image/png": "[encoded data removed]",
      "text/plain": [
       "<Figure size 432x288 with 1 Axes>"
      ]
     },
     "metadata": {
      "needs_background": "light"
     },
     "output_type": "display_data"
    }
   ],
   "source": [
    "import matplotlib.pyplot as plt\n",
    "\n",
    "def plot_pvalue_distribution(pvalues_aa, pvalues_ab, alpha, beta):\n",
    "    \"\"\"Рисует графики распределения p-value.\"\"\"\n",
    "    estimated_first_type_error = np.mean(pvalues_aa < alpha)\n",
    "    estimated_second_type_error = np.mean(pvalues_ab >= alpha)\n",
    "    y_one = estimated_first_type_error\n",
    "    y_two = 1 - estimated_second_type_error\n",
    "    X = np.linspace(0, 1, 1000)\n",
    "    Y_aa = [np.mean(pvalues_aa < x) for x in X]\n",
    "    Y_ab = [np.mean(pvalues_ab < x) for x in X]\n",
    "\n",
    "    plt.plot(X, Y_aa, label='A/A')\n",
    "    plt.plot(X, Y_ab, label='A/B')\n",
    "    plt.plot([alpha, alpha], [0, 1], '--k', alpha=0.8)\n",
    "    plt.plot([0, alpha], [y_one, y_one], '--k', alpha=0.8)\n",
    "    plt.plot([0, alpha], [y_two, y_two], '--k', alpha=0.8)\n",
    "    plt.plot([0, 1], [0, 1], '--k', alpha=0.8)\n",
    "\n",
    "    plt.title('Оценка распределения p-value', size=16)\n",
    "    plt.xlabel('p-value', size=12)\n",
    "    plt.legend(fontsize=12)\n",
    "    plt.grid()\n",
    "    plt.show()\n",
    "\n",
    "plot_pvalue_distribution(pvalues_aa, pvalues_ab, alpha, beta)"
   ]
  }
 ],
 "metadata": {
  "kernelspec": {
   "display_name": "base",
   "language": "python",
   "name": "python3"
  },
  "language_info": {
   "codemirror_mode": {
    "name": "ipython",
    "version": 3
   },
   "file_extension": ".py",
   "mimetype": "text/x-python",
   "name": "python",
   "nbconvert_exporter": "python",
   "pygments_lexer": "ipython3",
   "version": "3.8.3"
  },
  "orig_nbformat": 4
 },
 "nbformat": 4,
 "nbformat_minor": 2
}
