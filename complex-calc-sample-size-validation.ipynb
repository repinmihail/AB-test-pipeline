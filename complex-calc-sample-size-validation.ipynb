{
 "cells": [
  {
   "cell_type": "code",
   "execution_count": 4,
   "metadata": {},
   "outputs": [],
   "source": [
    "import numpy as np\n",
    "import pandas as pd\n",
    "from scipy import stats \n",
    "from tqdm.notebook import tqdm\n",
    "import time\n",
    "from statsmodels.graphics.gofplots import qqplot\n",
    "\n",
    "from plotly.subplots import make_subplots\n",
    "import plotly.graph_objects as go\n",
    "import plotly.express as px\n",
    "import matplotlib.pyplot as plt\n",
    "\n",
    "import uuid\n",
    "import zlib\n",
    "import random"
   ]
  },
  {
   "cell_type": "code",
   "execution_count": 5,
   "metadata": {},
   "outputs": [],
   "source": [
    "def get_MDE(mu, std, sample_size, n_groups=2, target_share=0.5, r=1, alpha=0.05, beta=0.2):\n",
    "    \"\"\"Возвращает MDE для обычной пользовательской метрики, при заданных параметрах теста. \n",
    "                                    ТАРГЕТНЫЕ ГРУППЫ ДОЛЖНЫ БЫТЬ РАВНЫ\n",
    "    mu: float, среднее выборки на исторических данных\n",
    "    std: float, стан. отклонение выборки на исторических данных\n",
    "    sample size: int, размер выборки для теста (включает в себя все группы)\n",
    "    n_groups: int, количество групп в тесте с учетом всех контрольных и таргетных\n",
    "    target_share: float, доля одной таргетной группы\n",
    "    r: float, отношение самой маленькой группы к самой большой группе\n",
    "    alpha: float, уровень ошибки I рода\n",
    "    beta: float, уровень ошибки II рода\n",
    "\n",
    "    return: MDE abs и MDE в %\n",
    "    \"\"\"\n",
    "    \n",
    "    t_alpha = stats.norm.ppf(1 - ((alpha / 2)), loc=0, scale=1)\n",
    "    comparisons = n_groups - 1\n",
    "    t_beta = stats.norm.ppf(1 - beta, loc=0, scale=1)\n",
    "    sample_ratio_correction = r+2+1/r\n",
    "    mde = np.sqrt(sample_ratio_correction)*(t_alpha + t_beta) * std / np.sqrt(sample_size*(1-target_share*(comparisons-1)))\n",
    "    return mde, mde*100/mu"
   ]
  },
  {
   "cell_type": "code",
   "execution_count": 6,
   "metadata": {},
   "outputs": [],
   "source": [
    "# Параметры\n",
    "MEAN = 1.82\n",
    "STD = 2.36"
   ]
  },
  {
   "cell_type": "code",
   "execution_count": 7,
   "metadata": {},
   "outputs": [
    {
     "name": "stdout",
     "output_type": "stream",
     "text": [
      "MDE в абс.значениях равно: 0.296, в отн. 16.246%\n"
     ]
    }
   ],
   "source": [
    "# Решение для mde из статьи\n",
    "sample_size = 2000\n",
    "mde = get_MDE(MEAN, STD, sample_size)\n",
    "print(f'MDE в абс.значениях равно: {mde[0]:0.3f}, в отн. {mde[1]:0.3f}%')"
   ]
  },
  {
   "cell_type": "code",
   "execution_count": 17,
   "metadata": {},
   "outputs": [],
   "source": [
    "# Функция для расчета размера групп на основе формул из статьи\n",
    "def get_sample_size(mu: float=None,\n",
    "                    std: float=None, \n",
    "                    mde: float=None, \n",
    "                    n_groups: int=2, \n",
    "                    target_share: float=0.5, \n",
    "                    r: float=1, \n",
    "                    alpha: float=0.05, \n",
    "                    beta: float=0.2\n",
    "                   ):\n",
    "    \"\"\"\n",
    "    Возвращает sample_size для обычной пользовательской метрики, при заданных параметрах теста.\n",
    "                                    ТАРГЕТНЫЕ ГРУППЫ ДОЛЖНЫ БЫТЬ РАВНЫ\n",
    "    mu: среднее выборки на исторических данных\n",
    "    std: стан. отклонение выборки на исторических данных\n",
    "    n_groups: количество групп в тесте с учетом всех контрольных и таргетных\n",
    "    target_share: доля одной таргетной группы\n",
    "    r: отношение самой маленькой группы к самой большой группе\n",
    "    alpha: уровень ошибки I рода\n",
    "    beta: уровень ошибки II рода\n",
    "\n",
    "    return: \n",
    "        sample_size: размер выборки для теста (включает в себя все группы)\n",
    "    \"\"\"\n",
    "    \n",
    "    t_alpha = stats.norm.ppf(1 - alpha / 2, loc=0, scale=1)\n",
    "    t_beta = stats.norm.ppf(1 - beta, loc=0, scale=1)\n",
    "    sample_ratio_correction = r + 2 + 1 / r\n",
    "    comparisons = n_groups - 1\n",
    "    mu_diff_squared = (mu - mu * mde)**2\n",
    "    sample_size = (\n",
    "        sample_ratio_correction * (\n",
    "            (t_alpha + t_beta)**2) * (std**2)\n",
    "    ) / (\n",
    "        mu_diff_squared * (1 - target_share * (comparisons - 1))\n",
    "    )\n",
    "    print(sample_size)\n",
    "    return int(np.ceil(sample_size))"
   ]
  },
  {
   "cell_type": "code",
   "execution_count": 9,
   "metadata": {},
   "outputs": [
    {
     "data": {
      "text/plain": [
       "2001"
      ]
     },
     "execution_count": 9,
     "metadata": {},
     "output_type": "execute_result"
    }
   ],
   "source": [
    "# Решение для случая с двумя группами - A и B\n",
    "# n_groups = 2, target_share = 0.5, r = 1\n",
    "mde = 1.16246\n",
    "get_sample_size(MEAN, STD, mde)"
   ]
  },
  {
   "cell_type": "code",
   "execution_count": 10,
   "metadata": {},
   "outputs": [
    {
     "data": {
      "text/plain": [
       "3001"
      ]
     },
     "execution_count": 10,
     "metadata": {},
     "output_type": "execute_result"
    }
   ],
   "source": [
    "# Решение для случая с тремя группами - A, B, C \n",
    "# Пусть контрольная группа будет самой большой и в ней будет 50% пользователей, тогда таргетные группы будут по 25%\n",
    "# n_groups = 3, target_share = 0.25, r = 0.5\n",
    "mde = 1.16246\n",
    "get_sample_size(MEAN, STD, mde, n_groups = 3, target_share = 0.25, r = 0.5)"
   ]
  },
  {
   "cell_type": "code",
   "execution_count": 11,
   "metadata": {},
   "outputs": [
    {
     "data": {
      "text/plain": [
       "(1500.5, 750.25)"
      ]
     },
     "execution_count": 11,
     "metadata": {},
     "output_type": "execute_result"
    }
   ],
   "source": [
    "3001 * 0.5, 3001 * 0.25"
   ]
  },
  {
   "cell_type": "code",
   "execution_count": 12,
   "metadata": {},
   "outputs": [
    {
     "data": {
      "text/plain": [
       "5105"
      ]
     },
     "execution_count": 12,
     "metadata": {},
     "output_type": "execute_result"
    }
   ],
   "source": [
    "# Решение для случая с четырьмя группами - A, B, C, D\n",
    "# Пусть контрольная группа будет самой большой и в ней будет 60% пользователей, тогда таргетные группы будут по 10%\n",
    "# n_groups = 4, target_share = 0.1, r = 0.1 / 0.6\n",
    "mde = 1.16246\n",
    "get_sample_size(MEAN, STD, mde, n_groups = 4, target_share = 0.1, r = 0.1 / 0.6)"
   ]
  },
  {
   "cell_type": "code",
   "execution_count": 13,
   "metadata": {},
   "outputs": [
    {
     "data": {
      "text/plain": [
       "(3063.0, 510.5)"
      ]
     },
     "execution_count": 13,
     "metadata": {},
     "output_type": "execute_result"
    }
   ],
   "source": [
    "5105 * 0.6, 5105 * 0.1"
   ]
  },
  {
   "cell_type": "code",
   "execution_count": 14,
   "metadata": {},
   "outputs": [
    {
     "data": {
      "text/plain": [
       "4001"
      ]
     },
     "execution_count": 14,
     "metadata": {},
     "output_type": "execute_result"
    }
   ],
   "source": [
    "# Решение для случая с четырьмя группами - A, B, C, D\n",
    "# Пусть все группы будут равными\n",
    "# n_groups = 4, target_share = 0.25, r = 1\n",
    "mde = 1.16246\n",
    "get_sample_size(MEAN, STD, mde, n_groups = 4, target_share = 0.25, r = 1)"
   ]
  },
  {
   "cell_type": "code",
   "execution_count": 15,
   "metadata": {},
   "outputs": [
    {
     "data": {
      "text/plain": [
       "1000.25"
      ]
     },
     "execution_count": 15,
     "metadata": {},
     "output_type": "execute_result"
    }
   ],
   "source": [
    "4001 * 0.25"
   ]
  },
  {
   "cell_type": "code",
   "execution_count": 18,
   "metadata": {},
   "outputs": [
    {
     "name": "stdout",
     "output_type": "stream",
     "text": [
      "2009.3132119933664\n"
     ]
    },
    {
     "data": {
      "text/plain": [
       "2010"
      ]
     },
     "execution_count": 18,
     "metadata": {},
     "output_type": "execute_result"
    }
   ],
   "source": [
    "# Решение для случая из статьи https://habr.com/ru/companies/X5Tech/articles/596279/\n",
    "# n_groups = 2, target_share = 0.5, r = 1\n",
    "mu_control = 2500\n",
    "std = 800\n",
    "mde = 1 + 100 / mu_control\n",
    "get_sample_size(mu_control, std, mde)"
   ]
  },
  {
   "cell_type": "code",
   "execution_count": 19,
   "metadata": {},
   "outputs": [
    {
     "data": {
      "text/plain": [
       "1004.6566059966832"
      ]
     },
     "execution_count": 19,
     "metadata": {},
     "output_type": "execute_result"
    }
   ],
   "source": [
    "2009.3132119933664 / 2"
   ]
  },
  {
   "cell_type": "code",
   "execution_count": 24,
   "metadata": {},
   "outputs": [],
   "source": [
    "def get_sample_size_standart(mu=None, std=None, mde=None, alpha=0.05, beta=0.2, n_groups=None, target_share=None, r=None):\n",
    "    t_alpha = abs(stats.norm.ppf(1 - alpha / 2, loc=0, scale=1))\n",
    "    t_beta = stats.norm.ppf(1 - beta, loc=0, scale=1)\n",
    "    \n",
    "    mu_diff_squared = (mu - mu * mde) ** 2\n",
    "    z_scores_sum_squared = (t_alpha + t_beta) ** 2\n",
    "    disp_sum = 2 * (std ** 2)\n",
    "    sample_size = int(\n",
    "        np.ceil(\n",
    "            z_scores_sum_squared * disp_sum / mu_diff_squared\n",
    "        )\n",
    "    )\n",
    "    return sample_size"
   ]
  },
  {
   "cell_type": "code",
   "execution_count": 25,
   "metadata": {},
   "outputs": [
    {
     "data": {
      "text/plain": [
       "1005"
      ]
     },
     "execution_count": 25,
     "metadata": {},
     "output_type": "execute_result"
    }
   ],
   "source": [
    "get_sample_size_standart(mu_control, std, mde)"
   ]
  }
 ],
 "metadata": {
  "kernelspec": {
   "display_name": "base",
   "language": "python",
   "name": "python3"
  },
  "language_info": {
   "codemirror_mode": {
    "name": "ipython",
    "version": 3
   },
   "file_extension": ".py",
   "mimetype": "text/x-python",
   "name": "python",
   "nbconvert_exporter": "python",
   "pygments_lexer": "ipython3",
   "version": "3.8.3"
  },
  "orig_nbformat": 4
 },
 "nbformat": 4,
 "nbformat_minor": 2
}
