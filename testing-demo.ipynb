{
 "cells": [
  {
   "cell_type": "code",
   "execution_count": 1,
   "metadata": {},
   "outputs": [],
   "source": [
    "import pandas as pd\n",
    "from ab_core import t2_ab_core as test"
   ]
  },
  {
   "cell_type": "code",
   "execution_count": 2,
   "metadata": {},
   "outputs": [],
   "source": [
    "sales_ = pd.read_csv('df_sales.csv')\n",
    "users = pd.read_csv('df_users.csv')\n",
    "sales = sales_[sales_['day'] <= 7]"
   ]
  },
  {
   "cell_type": "code",
   "execution_count": 3,
   "metadata": {},
   "outputs": [],
   "source": [
    "# Основной словарь для дизайна эксперимента - примерный вид\n",
    "# Какие еще параметры стоит добавить?\n",
    "# TODO Поля таблицы на вход предполагается именовать по типу user_id: int|date: str (YYYY-mm-dd)|feature1|feature2|feature3\n",
    "design_dict = {\n",
    "    'exp_name': 'name',                                 # наименование теста\n",
    "    'exp_duration': '7d',                               # продолжительность теста\n",
    "    'client': 'levelUp',                                # заказчик/проект\n",
    "    'groups_count': 2,                                  # количество групп в тесте с учетом всех контрольных и таргетных\n",
    "    'target_share': 1,                                  # доля одной таргетной группы\n",
    "    'r': 0.5,                                           # отношение самой маленькой группы к самой большой группе\n",
    "    'alpha': 0.5,                                       # уровень ошибки I рода\n",
    "    'beta': 0.2,                                        # уровень ошибки II рода\n",
    "    'history_data_availability': 'yes',                 # наличие исторических данных\n",
    "    'data_source_type': 'csv',                          # xlsx/csv/hive_table/hadoop_file\n",
    "    'data_sources': 'table_name',                       # указать путь или имя таблицы\n",
    "    'mde': None,                                        # при отсутствии исторических данных нужно указать mde\n",
    "    'sample_size': None,                                # при отсутствии исторических данных нужно указать sample_size\n",
    "    'target_metric_calc': {                             # указываются все метрики, которые нужно рассчитывать в тесте \n",
    "        'sales': ['sum', 'count']                       # !!! все поля, кроме user_id, date и метрик, будут считаться стратами\n",
    "    },\n",
    "    'help_metric_calc': {\n",
    "        'sales_1': 'sum',\n",
    "        'sales_2': ['mean', 'count']\n",
    "    },\n",
    "    'metric_dict_sales_mod': {\n",
    "        'target_metric_calc': {                             # указываются все метрики, которые нужно рассчитывать в тесте \n",
    "            'sales': ['sum', 'count']                       # !!! все поля, кроме user_id, date и метрик, будут считаться стратами\n",
    "        },\n",
    "        'help_metric_calc': {\n",
    "            'sales_1': 'sum',\n",
    "            'sales_2': ['mean', 'count']\n",
    "        }\n",
    "    }\n",
    "}\n",
    "# TODO Плюс добавятся параметры после разработки Splitter'а с конфликтующими экспериментами\n",
    "# В случае с несколькими целевыми метриками кажется разумным для расчета mde и ss брать метрику с большей дисперсией"
   ]
  },
  {
   "cell_type": "code",
   "execution_count": 4,
   "metadata": {},
   "outputs": [
    {
     "data": {
      "text/plain": [
       "{'target_metric_calc': {'sales': ['sum', 'count']},\n",
       " 'help_metric_calc': {'sales_1': 'sum', 'sales_2': ['mean', 'count']}}"
      ]
     },
     "execution_count": 4,
     "metadata": {},
     "output_type": "execute_result"
    }
   ],
   "source": [
    "design_dict['metric_dict_sales_mod']"
   ]
  },
  {
   "cell_type": "code",
   "execution_count": 5,
   "metadata": {},
   "outputs": [
    {
     "ename": "TypeError",
     "evalue": "get_grouped_columns() missing 4 required positional arguments: 'self', 'data', 'metric_dict', and 'exception_list'",
     "output_type": "error",
     "traceback": [
      "\u001b[1;31m---------------------------------------------------------------------------\u001b[0m",
      "\u001b[1;31mTypeError\u001b[0m                                 Traceback (most recent call last)",
      "\u001b[1;32m<ipython-input-5-d6309d99d8b6>\u001b[0m in \u001b[0;36m<module>\u001b[1;34m\u001b[0m\n\u001b[1;32m----> 1\u001b[1;33m \u001b[0mtest\u001b[0m\u001b[1;33m.\u001b[0m\u001b[0mget_grouped_columns\u001b[0m\u001b[1;33m(\u001b[0m\u001b[1;33m)\u001b[0m\u001b[1;33m\u001b[0m\u001b[1;33m\u001b[0m\u001b[0m\n\u001b[0m",
      "\u001b[1;31mTypeError\u001b[0m: get_grouped_columns() missing 4 required positional arguments: 'self', 'data', 'metric_dict', and 'exception_list'"
     ]
    }
   ],
   "source": [
    "test.get_grouped_columns()"
   ]
  },
  {
   "cell_type": "code",
   "execution_count": 9,
   "metadata": {},
   "outputs": [
    {
     "ename": "TypeError",
     "evalue": "get_grouped_columns() missing 1 required positional argument: 'exception_list'",
     "output_type": "error",
     "traceback": [
      "\u001b[1;31m---------------------------------------------------------------------------\u001b[0m",
      "\u001b[1;31mTypeError\u001b[0m                                 Traceback (most recent call last)",
      "\u001b[1;32m<ipython-input-9-942a6696397a>\u001b[0m in \u001b[0;36m<module>\u001b[1;34m\u001b[0m\n\u001b[1;32m----> 1\u001b[1;33m \u001b[0mab\u001b[0m\u001b[1;33m.\u001b[0m\u001b[0mget_grouped_columns\u001b[0m\u001b[1;33m(\u001b[0m\u001b[0msales\u001b[0m\u001b[1;33m,\u001b[0m \u001b[0mdesign_dict\u001b[0m\u001b[1;33m[\u001b[0m\u001b[1;34m'metric_dict_sales_mod'\u001b[0m\u001b[1;33m]\u001b[0m\u001b[1;33m,\u001b[0m \u001b[1;33m[\u001b[0m\u001b[1;34m'day'\u001b[0m\u001b[1;33m]\u001b[0m\u001b[1;33m)\u001b[0m\u001b[1;33m\u001b[0m\u001b[1;33m\u001b[0m\u001b[0m\n\u001b[0m",
      "\u001b[1;31mTypeError\u001b[0m: get_grouped_columns() missing 1 required positional argument: 'exception_list'"
     ]
    }
   ],
   "source": [
    "ab.get_grouped_columns(sales, design_dict['metric_dict_sales_mod'], ['day'])"
   ]
  },
  {
   "cell_type": "code",
   "execution_count": 10,
   "metadata": {},
   "outputs": [
    {
     "ename": "TypeError",
     "evalue": "get_grouped_columns() missing 1 required positional argument: 'exception_list'",
     "output_type": "error",
     "traceback": [
      "\u001b[1;31m---------------------------------------------------------------------------\u001b[0m",
      "\u001b[1;31mTypeError\u001b[0m                                 Traceback (most recent call last)",
      "\u001b[1;32m<ipython-input-10-e6cb803a08de>\u001b[0m in \u001b[0;36m<module>\u001b[1;34m\u001b[0m\n\u001b[1;32m----> 1\u001b[1;33m \u001b[0mcolumn_for_grouped\u001b[0m\u001b[1;33m,\u001b[0m \u001b[0mdf_ness_cols\u001b[0m \u001b[1;33m=\u001b[0m \u001b[0mab\u001b[0m\u001b[1;33m.\u001b[0m\u001b[0mget_grouped_columns\u001b[0m\u001b[1;33m(\u001b[0m\u001b[0msales\u001b[0m\u001b[1;33m,\u001b[0m \u001b[0mdesign_dict\u001b[0m\u001b[1;33m[\u001b[0m\u001b[1;34m'metric_dict_sales_mod'\u001b[0m\u001b[1;33m]\u001b[0m\u001b[1;33m,\u001b[0m \u001b[1;33m[\u001b[0m\u001b[1;34m'day'\u001b[0m\u001b[1;33m]\u001b[0m\u001b[1;33m)\u001b[0m\u001b[1;33m\u001b[0m\u001b[1;33m\u001b[0m\u001b[0m\n\u001b[0m",
      "\u001b[1;31mTypeError\u001b[0m: get_grouped_columns() missing 1 required positional argument: 'exception_list'"
     ]
    }
   ],
   "source": [
    "column_for_grouped, df_ness_cols = ab.get_grouped_columns(sales, design_dict['metric_dict_sales_mod'], ['day'])"
   ]
  },
  {
   "cell_type": "code",
   "execution_count": null,
   "metadata": {},
   "outputs": [],
   "source": []
  }
 ],
 "metadata": {
  "kernelspec": {
   "display_name": "base",
   "language": "python",
   "name": "python3"
  },
  "language_info": {
   "codemirror_mode": {
    "name": "ipython",
    "version": 3
   },
   "file_extension": ".py",
   "mimetype": "text/x-python",
   "name": "python",
   "nbconvert_exporter": "python",
   "pygments_lexer": "ipython3",
   "version": "3.8.3"
  },
  "orig_nbformat": 4
 },
 "nbformat": 4,
 "nbformat_minor": 2
}
